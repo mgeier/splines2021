{
 "cells": [
  {
   "cell_type": "markdown",
   "metadata": {
    "slideshow": {
     "slide_type": "skip"
    }
   },
   "source": [
    "This [Jupyter notebook](https://jupyter.org/)\n",
    "is meant to be viewed in \"slide mode\".\n",
    "\n",
    "If you want to view the slides locally,\n",
    "you'll need to install [RISE](https://rise.readthedocs.io/).\n",
    "\n",
    "But it's probably simpler to just visit the\n",
    "[online version](https://nbviewer.jupyter.org/format/slides/github/mgeier/splines2021/blob/main/presentation.ipynb)."
   ]
  },
  {
   "cell_type": "markdown",
   "metadata": {
    "slideshow": {
     "slide_type": "slide"
    }
   },
   "source": [
    "# Rotation Splines for Spatial Audio Scenes\n",
    "\n",
    "Matthias Geier\n",
    "\n",
    "https://github.com/mgeier/splines2021"
   ]
  },
  {
   "cell_type": "markdown",
   "metadata": {
    "slideshow": {
     "slide_type": "subslide"
    }
   },
   "source": [
    "## Audio Scene Description Format (ASDF)\n",
    "\n",
    "* https://AudioSceneDescriptionFormat.readthedocs.io/\n",
    "* https://github.com/AudioSceneDescriptionFormat/asdf-rust\n",
    "* https://github.com/SoundScapeRenderer/ssr/pull/155\n",
    "* splines for sound source trajectories\n",
    "* splines for rotation\n",
    "  * source rotations\n",
    "  * rotation of groups of sources\n",
    "  * rotation of local coordinate systems\n",
    "* splines for volume envelopes\n",
    "* everything is still *work in progress*!"
   ]
  },
  {
   "cell_type": "markdown",
   "metadata": {
    "slideshow": {
     "slide_type": "subslide"
    }
   },
   "source": [
    "## Overview\n",
    "\n",
    "* three-dimensional rotation\n",
    "* unit quaternions\n",
    "  * SLERP\n",
    "* splines in Euclidean space\n",
    "  * Bézier splines\n",
    "  * De Casteljau's algorithm\n",
    "  * Catmull–Rom splines\n",
    "* rotation splines\n",
    "  * De Casteljau with SLERP\n",
    "  * Catmull–Rom with SLERP"
   ]
  },
  {
   "cell_type": "markdown",
   "metadata": {
    "slideshow": {
     "slide_type": "slide"
    }
   },
   "source": [
    "## Three-dimensional Rotation\n",
    "\n",
    "* azimuth, elevation, roll\n",
    "  * order matters!\n",
    "  * gimbal lock\n",
    "* axis and angle\n",
    "* rotation matrix\n",
    "* unit quaternion\n",
    "* ... and more: homogeneous coordinates, geometric algebra, ..."
   ]
  },
  {
   "cell_type": "markdown",
   "metadata": {
    "slideshow": {
     "slide_type": "subslide"
    }
   },
   "source": [
    "## Quaternions\n",
    "\n",
    "* a + bi + cj + dk\n",
    "  * $i^2 = \\dots$\n",
    "* scalar and vector\n",
    "* 4D vector space"
   ]
  },
  {
   "cell_type": "markdown",
   "metadata": {
    "slideshow": {
     "slide_type": "subslide"
    }
   },
   "source": [
    "## Unit Quaternions"
   ]
  },
  {
   "cell_type": "markdown",
   "metadata": {
    "slideshow": {
     "slide_type": "subslide"
    }
   },
   "source": [
    "## SLERP"
   ]
  },
  {
   "cell_type": "markdown",
   "metadata": {
    "slideshow": {
     "slide_type": "slide"
    }
   },
   "source": [
    "## Splines\n",
    "\n",
    "* https://splines.readthedocs.io/\n",
    "* $\\boldsymbol{d} t^3 + \\boldsymbol{c} t^2 + \\boldsymbol{b} t + \\boldsymbol{a}$"
   ]
  },
  {
   "cell_type": "markdown",
   "metadata": {
    "slideshow": {
     "slide_type": "slide"
    }
   },
   "source": [
    "## Rotation Splines"
   ]
  }
 ],
 "metadata": {
  "celltoolbar": "Slideshow",
  "kernelspec": {
   "display_name": "Python 3",
   "language": "python",
   "name": "python3"
  },
  "language_info": {
   "codemirror_mode": {
    "name": "ipython",
    "version": 3
   },
   "file_extension": ".py",
   "mimetype": "text/x-python",
   "name": "python",
   "nbconvert_exporter": "python",
   "pygments_lexer": "ipython3",
   "version": "3.9.1+"
  },
  "livereveal": {
   "autolaunch": true
  }
 },
 "nbformat": 4,
 "nbformat_minor": 4
}
