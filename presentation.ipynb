{
 "cells": [
  {
   "cell_type": "markdown",
   "metadata": {
    "slideshow": {
     "slide_type": "skip"
    }
   },
   "source": [
    "This [Jupyter notebook](https://jupyter.org/)\n",
    "is meant to be viewed in \"slide mode\".\n",
    "\n",
    "If you want to view the slides locally,\n",
    "you'll need to install [RISE](https://rise.readthedocs.io/).\n",
    "\n",
    "But it's probably simpler to just visit the\n",
    "[online version](https://nbviewer.jupyter.org/format/slides/github/mgeier/splines2021/blob/main/presentation.ipynb)."
   ]
  },
  {
   "cell_type": "markdown",
   "metadata": {
    "slideshow": {
     "slide_type": "slide"
    }
   },
   "source": [
    "# Rotation Splines for Spatial Audio Scenes\n",
    "\n",
    "Matthias Geier\n",
    "\n",
    "https://github.com/mgeier/splines2021"
   ]
  },
  {
   "cell_type": "markdown",
   "metadata": {
    "slideshow": {
     "slide_type": "subslide"
    }
   },
   "source": [
    "## Overview\n",
    "\n",
    "* ...\n",
    "  * ...\n",
    "* ...\n",
    "* ..."
   ]
  },
  {
   "cell_type": "markdown",
   "metadata": {
    "slideshow": {
     "slide_type": "slide"
    }
   },
   "source": [
    "## The Audio Scene Description Format (ASDF)\n",
    "\n",
    "* previously, only static positions, now sources can move along trajectories\n",
    "* https://AudioSceneDescriptionFormat.readthedocs.io/\n",
    "* implemented in Rust: https://github.com/AudioSceneDescriptionFormat/asdf-rust\n",
    "* heavy use of splines: https://splines.readthedocs.io/\n",
    "* not yet in the SSR, but there is a *pull request*: https://github.com/SoundScapeRenderer/ssr/pull/155\n",
    "* ..."
   ]
  }
 ],
 "metadata": {
  "celltoolbar": "Slideshow",
  "kernelspec": {
   "display_name": "Python 3",
   "language": "python",
   "name": "python3"
  },
  "language_info": {
   "codemirror_mode": {
    "name": "ipython",
    "version": 3
   },
   "file_extension": ".py",
   "mimetype": "text/x-python",
   "name": "python",
   "nbconvert_exporter": "python",
   "pygments_lexer": "ipython3",
   "version": "3.9.1+"
  },
  "livereveal": {
   "autolaunch": true
  }
 },
 "nbformat": 4,
 "nbformat_minor": 4
}
