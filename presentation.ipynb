{
 "cells": [
  {
   "cell_type": "markdown",
   "metadata": {
    "slideshow": {
     "slide_type": "skip"
    }
   },
   "source": [
    "This [Jupyter notebook](https://jupyter.org/)\n",
    "is meant to be viewed in \"slide mode\".\n",
    "\n",
    "If you want to view the slides locally,\n",
    "you'll need to install [RISE](https://rise.readthedocs.io/).\n",
    "\n",
    "But it's probably simpler to just visit the\n",
    "[online version](https://nbviewer.jupyter.org/format/slides/github/mgeier/splines2021/blob/main/presentation.ipynb)."
   ]
  },
  {
   "cell_type": "markdown",
   "metadata": {
    "slideshow": {
     "slide_type": "slide"
    }
   },
   "source": [
    "# Rotation Splines for Spatial Audio Scenes\n",
    "\n",
    "Matthias Geier\n",
    "\n",
    "https://github.com/mgeier/splines2021"
   ]
  },
  {
   "cell_type": "markdown",
   "metadata": {
    "slideshow": {
     "slide_type": "subslide"
    }
   },
   "source": [
    "## Audio Scene Description Format (ASDF)\n",
    "\n",
    "* https://AudioSceneDescriptionFormat.readthedocs.io/\n",
    "* https://github.com/AudioSceneDescriptionFormat/asdf-rust\n",
    "* https://github.com/SoundScapeRenderer/ssr/pull/155\n",
    "* splines for sound source trajectories\n",
    "* splines for rotation\n",
    "  * source rotations\n",
    "  * rotation of groups of sources\n",
    "  * rotation of local coordinate systems\n",
    "* splines for volume envelopes\n",
    "* everything is still *work in progress*!"
   ]
  },
  {
   "cell_type": "markdown",
   "metadata": {
    "slideshow": {
     "slide_type": "subslide"
    }
   },
   "source": [
    "## Overview\n",
    "\n",
    "* splines in Euclidean space\n",
    "  * Bézier splines\n",
    "  * De Casteljau's algorithm\n",
    "  * Catmull–Rom splines\n",
    "* three-dimensional rotation\n",
    "* unit quaternions\n",
    "  * Slerp (**s**pherical **l**inear int**erp**olation)\n",
    "* rotation splines\n",
    "  * De Casteljau with Slerp\n",
    "  * Catmull–Rom with Slerp"
   ]
  },
  {
   "cell_type": "markdown",
   "metadata": {
    "slideshow": {
     "slide_type": "slide"
    }
   },
   "source": [
    "## Splines in Euclidean Space\n",
    "\n",
    "* https://splines.readthedocs.io/\n",
    "* https://splines.readthedocs.io/euclidean/"
   ]
  },
  {
   "cell_type": "markdown",
   "metadata": {
    "slideshow": {
     "slide_type": "subslide"
    }
   },
   "source": [
    "## Parametric Piecewise Cubic Polynomial Curves\n",
    "\n",
    "* $\\boldsymbol{p}_i(t) = \\boldsymbol{d}_i t^3 + \\boldsymbol{c}_i t^2 + \\boldsymbol{b}_i t + \\boldsymbol{a}_i$\n",
    "  * univariate\n",
    "  * $n$-dimensional\n",
    "  * uniform vs. non-uniform"
   ]
  },
  {
   "cell_type": "markdown",
   "metadata": {
    "slideshow": {
     "slide_type": "subslide"
    }
   },
   "source": [
    "## Bézier Splines\n",
    "\n",
    "* most common: *cubic* Bézier splines\n",
    "* De Casteljau's algorithm\n",
    "  * multiple stages, each only using **l**inear int**erp**olation\n",
    "    * $\\operatorname{Lerp}(\\boldsymbol{x}_0, \\boldsymbol{x}_1 ;t) = (1 - t) \\boldsymbol{x}_0 + t \\boldsymbol{x}_1$,\n",
    "      where $0 \\le t \\le 1$\n",
    "  * https://splines.readthedocs.io/euclidean/bezier-de-casteljau.html"
   ]
  },
  {
   "cell_type": "markdown",
   "metadata": {
    "slideshow": {
     "slide_type": "subslide"
    }
   },
   "source": [
    "## Catmull–Rom Splines\n",
    "\n",
    "* https://splines.readthedocs.io/euclidean/catmull-rom-properties.html"
   ]
  },
  {
   "cell_type": "markdown",
   "metadata": {
    "slideshow": {
     "slide_type": "slide"
    }
   },
   "source": [
    "## Three-dimensional Rotation\n",
    "\n",
    "* azimuth, elevation, roll\n",
    "  * order matters!\n",
    "  * gimbal lock\n",
    "* axis and angle\n",
    "* rotation matrix\n",
    "* unit quaternion\n",
    "* ... and more: homogeneous coordinates, geometric algebra, etc."
   ]
  },
  {
   "cell_type": "markdown",
   "metadata": {
    "slideshow": {
     "slide_type": "subslide"
    }
   },
   "source": [
    "## Quaternions\n",
    "\n",
    "* algebraic: $w + x\\mathbf{i} + y\\mathbf{j} + z\\mathbf{k}$\n",
    "  * $\\mathbf{i}^2 = \\mathbf{j}^2 = \\mathbf{k}^2 = \\mathbf{ijk} = -1$\n",
    "  * $\\mathbf{ij} = \\mathbf{k}$\n",
    "  * $\\mathbf{ji} = -\\mathbf{k}$\n",
    "* scalar and vector: $(w, \\vec{v}) = (w, (x, y, z))$\n",
    "  * \"real\" and \"imaginary\"\n",
    "* 4D vector space (with additional operations)\n",
    "  * $(w, x, y, z)$ vs. $(x, y, z, w)$\n",
    "* ... and more: 4x4 real matrix, 2x2 complex matrix, etc."
   ]
  },
  {
   "cell_type": "markdown",
   "metadata": {
    "slideshow": {
     "slide_type": "subslide"
    }
   },
   "source": [
    "## Unit Quaternions $\\Leftrightarrow$ Rotations\n",
    "\n",
    "* $q_i = (\\cos \\frac{\\alpha_i}{2}, \\vec{n}_i \\sin \\frac{\\alpha_i}{2})$\n",
    "  * (normalized) rotation axis $\\vec{n}_i$\n",
    "  * angle $\\alpha_i$ (in radians)\n",
    "* double cover\n",
    "  * $q$ and $-q$ represent the same rotation!"
   ]
  },
  {
   "cell_type": "markdown",
   "metadata": {
    "slideshow": {
     "slide_type": "subslide"
    }
   },
   "source": [
    "## Unit Quaternion Operations\n",
    "\n",
    "* quaternion multiplication: $q_1 q_0$\n",
    "  * rotation $q_0$ followed by rotation $q_1$ (read from right to left)\n",
    "  * $q_0 q_1 \\ne q_1 q_0$ (except if the rotation axis is the same)\n",
    "* identity: $(1, (0, 0, 0))$\n",
    "* inverse: $q^{-1}$\n",
    "  * same rotation axis, negated angle\n",
    "  * $q q^{-1} = q^{-1} q = (1, (0, 0, 0))$"
   ]
  },
  {
   "cell_type": "markdown",
   "metadata": {
    "slideshow": {
     "slide_type": "subslide"
    }
   },
   "source": [
    "## Slerp, part 1\n",
    "\n",
    "* **s**pherical **l**inear int**erp**olation: $\\operatorname{Slerp}(q_0, q_1; t)$, where $0 \\le t \\le 1$\n",
    "* intermediate step: change angle linearly from $0$ to $\\alpha$\n",
    "  * reminder (axis/angle):\n",
    "    $q = \\left(\\cos \\frac{\\alpha}{2}, \\vec{n} \\sin \\frac{\\alpha}{2}\\right)$\n",
    "  * rotation axis $\\vec{n}$ stays constant\n",
    "  * if $\\alpha = 0 \\to q = \\boldsymbol{1} = (1, (0, 0, 0))$\n",
    "  * $\\operatorname{Slerp}(\\boldsymbol{1}, q; t) = \\left(\\cos \\frac{\\alpha t}{2}, \\vec{n} \\sin \\frac{\\alpha t}{2}\\right) = q^t$\n",
    "* $\\operatorname{Slerp}(q_0, q_1; t) = \\operatorname{Slerp}(\\boldsymbol{1}, q_{0,1}; t) \\, q_0$\n",
    "  * $q_{0,1}$: relative rotation from $q_0$ to $q_1$"
   ]
  },
  {
   "cell_type": "markdown",
   "metadata": {
    "slideshow": {
     "slide_type": "subslide"
    }
   },
   "source": [
    "## Relative Rotation\n",
    "\n",
    "* $q_{0,1}$: rotation from $q_0$ to $q_1$\n",
    "\n",
    "\\begin{equation*}\n",
    "q_{0,1} q_0 = q_1\n",
    "\\end{equation*}\n",
    "\n",
    "* right-multiply both sides with ${q_0}^{-1}$\n",
    "\n",
    "\\begin{equation*}\n",
    "q_{0,1} q_0 {q_0}^{-1} = q_1 {q_0}^{-1}\n",
    "\\end{equation*}\n",
    "\n",
    "* $q_0 {q_0}^{-1}$ cancels out\n",
    "\n",
    "\\begin{equation*}\n",
    "q_{0,1} = q_1 {q_0}^{-1}\n",
    "\\end{equation*}"
   ]
  },
  {
   "cell_type": "markdown",
   "metadata": {
    "slideshow": {
     "slide_type": "subslide"
    }
   },
   "source": [
    "## Slerp, part 2\n",
    "\n",
    "* $\\operatorname{Slerp}(q_0, q_1; t) = \\operatorname{Slerp}(\\boldsymbol{1}, q_{0,1}; t) \\, q_0$\n",
    "  * $\\operatorname{Slerp}(\\boldsymbol{1}, q; t) = q^t$\n",
    "\n",
    "  * $q_{0,1} = q_1 {q_0}^{-1}$\n",
    "\n",
    "* $\\operatorname{Slerp}(q_0, q_1; t) = \\left(q_1 {q_0}^{-1}\\right)^t \\, q_0$\n",
    "* https://splines.readthedocs.io/rotation/slerp.html"
   ]
  },
  {
   "cell_type": "markdown",
   "metadata": {
    "slideshow": {
     "slide_type": "slide"
    }
   },
   "source": [
    "## Rotation Splines\n",
    "\n",
    "* https://splines.readthedocs.io/rotation/de-casteljau.html\n",
    "* https://splines.readthedocs.io/rotation/catmull-rom-uniform.html\n",
    "* https://splines.readthedocs.io/rotation/catmull-rom-non-uniform.html"
   ]
  }
 ],
 "metadata": {
  "celltoolbar": "Slideshow",
  "kernelspec": {
   "display_name": "Python 3",
   "language": "python",
   "name": "python3"
  },
  "language_info": {
   "codemirror_mode": {
    "name": "ipython",
    "version": 3
   },
   "file_extension": ".py",
   "mimetype": "text/x-python",
   "name": "python",
   "nbconvert_exporter": "python",
   "pygments_lexer": "ipython3",
   "version": "3.9.1+"
  },
  "livereveal": {
   "autolaunch": true
  }
 },
 "nbformat": 4,
 "nbformat_minor": 4
}
