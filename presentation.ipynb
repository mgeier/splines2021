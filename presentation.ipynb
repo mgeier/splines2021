{
 "cells": [
  {
   "cell_type": "markdown",
   "metadata": {
    "slideshow": {
     "slide_type": "skip"
    }
   },
   "source": [
    "This [Jupyter notebook](https://jupyter.org/)\n",
    "is meant to be viewed in \"slide mode\".\n",
    "\n",
    "If you want to view the slides locally,\n",
    "you'll need to install [RISE](https://rise.readthedocs.io/).\n",
    "\n",
    "But it's probably simpler to just visit the\n",
    "[online version](https://nbviewer.jupyter.org/format/slides/github/mgeier/splines2021/blob/main/presentation.ipynb)."
   ]
  },
  {
   "cell_type": "markdown",
   "metadata": {
    "slideshow": {
     "slide_type": "slide"
    }
   },
   "source": [
    "# Rotation Splines for Spatial Audio Scenes\n",
    "\n",
    "Matthias Geier\n",
    "\n",
    "https://github.com/mgeier/splines2021"
   ]
  },
  {
   "cell_type": "markdown",
   "metadata": {
    "slideshow": {
     "slide_type": "subslide"
    }
   },
   "source": [
    "## Context: Audio Scene Description Format (ASDF)\n",
    "\n",
    "* https://AudioSceneDescriptionFormat.readthedocs.io/\n",
    "* https://github.com/AudioSceneDescriptionFormat/asdf-rust\n",
    "* https://github.com/SoundScapeRenderer/ssr/pull/155"
   ]
  },
  {
   "cell_type": "markdown",
   "metadata": {
    "slideshow": {
     "slide_type": "fragment"
    }
   },
   "source": [
    "* splines for sound source trajectories\n",
    "* splines for rotation\n",
    "  * source rotations\n",
    "  * rotation of groups of sources\n",
    "  * rotation of local coordinate systems\n",
    "* splines for volume envelopes"
   ]
  },
  {
   "cell_type": "markdown",
   "metadata": {
    "slideshow": {
     "slide_type": "fragment"
    }
   },
   "source": [
    "* everything is still *work in progress*!"
   ]
  },
  {
   "cell_type": "markdown",
   "metadata": {
    "slideshow": {
     "slide_type": "subslide"
    }
   },
   "source": [
    "## Overview\n",
    "\n",
    "* splines in Euclidean space\n",
    "  * Bézier splines\n",
    "    * De Casteljau's algorithm\n",
    "* three-dimensional rotation\n",
    "  * unit quaternions\n",
    "    * Slerp (**s**pherical **l**inear int**erp**olation)\n",
    "* rotation splines\n",
    "  * De Casteljau's algorithm (using Slerp)\n",
    "* Catmull–Rom splines\n",
    "  * Euclidean space\n",
    "  * unit quaternions"
   ]
  },
  {
   "cell_type": "markdown",
   "metadata": {
    "slideshow": {
     "slide_type": "slide"
    }
   },
   "source": [
    "## Euclidean Space\n",
    "\n",
    "* where classical geometry happens\n",
    "* named after Euclid of Alexandria (Εὐκλείδης)\n",
    "  * book series: \"Elements\" (Στοιχεῖον)\n",
    "  * about 300 BCE\n",
    "* there is exactly one line that passes through two distinct points\n",
    "* two lines either meet in one point or are parallel"
   ]
  },
  {
   "cell_type": "markdown",
   "metadata": {
    "slideshow": {
     "slide_type": "subslide"
    }
   },
   "source": [
    "## Splines in Euclidean Space\n",
    "\n",
    "* known from your favorite vector drawing program\n",
    "* one-dimensional, two-dimensional, three-dimensional, ...\n",
    "* https://splines.readthedocs.io/\n",
    "* https://splines.readthedocs.io/euclidean/"
   ]
  },
  {
   "cell_type": "markdown",
   "metadata": {
    "slideshow": {
     "slide_type": "subslide"
    }
   },
   "source": [
    "## Parametric Piecewise Cubic Polynomial Curves\n",
    "\n",
    "\\begin{equation*}\n",
    "\\boldsymbol{p}_i(t) = \\boldsymbol{d}_i t^3 + \\boldsymbol{c}_i t^2 + \\boldsymbol{b}_i t + \\boldsymbol{a}_i\n",
    "\\end{equation*}\n",
    "\n",
    "* $n$-dimensional\n",
    "* degree 3 $\\to$ four coefficients\n",
    "* univariate\n",
    "* uniform vs. non-uniform"
   ]
  },
  {
   "cell_type": "markdown",
   "metadata": {
    "slideshow": {
     "slide_type": "subslide"
    }
   },
   "source": [
    "## Bézier Splines\n",
    "\n",
    "* named after Pierre Bézier (1910 – 1999), who worked at Renault\n",
    "* most common: *cubic* Bézier splines (four control points per segment)"
   ]
  },
  {
   "cell_type": "markdown",
   "metadata": {
    "slideshow": {
     "slide_type": "fragment"
    }
   },
   "source": [
    "* different ways to calculate points on the curve:\n",
    "  * evaluate cubic polynomials\n",
    "  * De Casteljau's algorithm\n",
    "    * named after Paul de Casteljau (\\*1930), who worked at Citroën\n",
    "    * multiple stages, each only using **l**inear int**erp**olation\n",
    "      * $\\operatorname{Lerp}(\\boldsymbol{x}_0, \\boldsymbol{x}_1 ;t) = (1 - t) \\boldsymbol{x}_0 + t \\boldsymbol{x}_1$,\n",
    "        where $0 \\le t \\le 1$\n",
    "    * can be used graphically\n",
    "    * https://splines.readthedocs.io/euclidean/bezier-de-casteljau.html"
   ]
  },
  {
   "cell_type": "markdown",
   "metadata": {
    "slideshow": {
     "slide_type": "slide"
    }
   },
   "source": [
    "## Rotation\n",
    "\n",
    "* 2D\n",
    "  * angle\n",
    "* 3D\n",
    "  * Euler's rotation theorem (1775) ($\\ne$ Euler angles!)\n",
    "    * axis and angle\n",
    "    * multiple rotations can be combined into one rotation\n",
    "  * order of rotations matters!\n",
    "    * not commutative"
   ]
  },
  {
   "cell_type": "markdown",
   "metadata": {
    "slideshow": {
     "slide_type": "subslide"
    }
   },
   "source": [
    "## Representing Three-Dimensional Rotation\n",
    "\n",
    "* azimuth, elevation, roll\n",
    "  * order matters!\n",
    "  * global vs local frame of reference\n",
    "  * gimbal lock\n",
    "* axis and angle\n",
    "* rotation matrix\n",
    "* unit quaternion\n",
    "* ... and more: homogeneous coordinates, geometric algebra, etc."
   ]
  },
  {
   "cell_type": "markdown",
   "metadata": {
    "slideshow": {
     "slide_type": "subslide"
    }
   },
   "source": [
    "## Quaternions\n",
    "\n",
    "* discovered in 1843 by Sir William Rowan Hamilton\n",
    "* extension of complex numbers into 3D space\n",
    "  * ... but four components are needed!\n",
    "* multiplication is non-commutative"
   ]
  },
  {
   "cell_type": "markdown",
   "metadata": {
    "slideshow": {
     "slide_type": "subslide"
    }
   },
   "source": [
    "## Representing Quaternions\n",
    "\n",
    "* algebraic: $w + x\\mathbf{i} + y\\mathbf{j} + z\\mathbf{k}$\n",
    "  * $\\mathbf{i}^2 = \\mathbf{j}^2 = \\mathbf{k}^2 = \\mathbf{ijk} = -1$\n",
    "  * $\\mathbf{ij} = \\mathbf{k}$\n",
    "  * $\\mathbf{ji} = -\\mathbf{k}$\n",
    "* scalar and vector: $(w, \\vec{v}) = (w, (x, y, z))$\n",
    "  * \"real\" and \"imaginary\"\n",
    "* 4D vector space (with additional operations)\n",
    "  * $(w, x, y, z)$ vs. $(x, y, z, w)$\n",
    "* ... and more: 4x4 real matrix, 2x2 complex matrix, etc."
   ]
  },
  {
   "cell_type": "markdown",
   "metadata": {
    "slideshow": {
     "slide_type": "subslide"
    }
   },
   "source": [
    "## Unit Quaternions $\\Leftrightarrow$ Rotations\n",
    "\n",
    "* all quaternions with length $1$: unit hypersphere $S^3$\n",
    "* $q_i = (\\cos \\frac{\\alpha_i}{2}, \\vec{n}_i \\sin \\frac{\\alpha_i}{2})$\n",
    "  * (normalized) rotation axis $\\vec{n}_i$\n",
    "  * angle $\\alpha_i$ (in radians)\n",
    "* double cover\n",
    "  * $q$ and $-q$ represent the same rotation!"
   ]
  },
  {
   "cell_type": "markdown",
   "metadata": {
    "slideshow": {
     "slide_type": "subslide"
    }
   },
   "source": [
    "## Unit Quaternion Operations\n",
    "\n",
    "* quaternion multiplication: $\\; q_1 q_0$\n",
    "  * rotation $q_0$ followed by rotation $q_1$ (read from right to left)\n",
    "  * $q_0 q_1 \\ne q_1 q_0$ (except if the rotation axis is the same)\n",
    "* identity: $\\; \\boldsymbol{1} = (1, (0, 0, 0))$\n",
    "* inverse: $\\; q^{-1}$\n",
    "  * same rotation axis, negated angle\n",
    "  * $q q^{-1} = q^{-1} q = \\boldsymbol{1}$"
   ]
  },
  {
   "cell_type": "markdown",
   "metadata": {
    "slideshow": {
     "slide_type": "slide"
    }
   },
   "source": [
    "## Rotation Splines\n",
    "\n",
    "* https://splines.readthedocs.io/rotation/\n",
    "* using unit quaternions\n",
    "* polynomials cannot be used!\n",
    "  * cannot use addition with unit quaternions\n",
    "  * multiplication is non-commutative\n",
    "* idea: use geometric algorithms involving straight lines\n",
    "  * e.g. de Casteljau's algorithm"
   ]
  },
  {
   "cell_type": "markdown",
   "metadata": {
    "slideshow": {
     "slide_type": "subslide"
    }
   },
   "source": [
    "## “Straight Lines” on the Unit Hypersphere\n",
    "\n",
    "* shortest path between two unit quaternions (i.e. two rotations)\n",
    "  * great arc (part of a great circle)\n",
    "  * geodesic\n",
    "* locally parallel lines will intersect at some point"
   ]
  },
  {
   "cell_type": "markdown",
   "metadata": {
    "slideshow": {
     "slide_type": "subslide"
    }
   },
   "source": [
    "## Slerp, part 1\n",
    "\n",
    "* **s**pherical **l**inear int**erp**olation: $\\operatorname{Slerp}(q_0, q_1; t)$, where $0 \\le t \\le 1$\n",
    "* intermediate step: change angle linearly from $0$ to $\\alpha$\n",
    "  * reminder (axis/angle):\n",
    "    $q = \\left(\\cos \\frac{\\alpha}{2}, \\vec{n} \\sin \\frac{\\alpha}{2}\\right)$\n",
    "  * rotation axis $\\vec{n}$ stays constant\n",
    "  * if $\\alpha = 0 \\to q = \\boldsymbol{1} = (1, (0, 0, 0))$\n",
    "  * $\\operatorname{Slerp}(\\boldsymbol{1}, q; t) = \\left(\\cos \\frac{\\alpha t}{2}, \\vec{n} \\sin \\frac{\\alpha t}{2}\\right) = q^t$\n",
    "* $\\operatorname{Slerp}(q_0, q_1; t) = \\operatorname{Slerp}(\\boldsymbol{1}, q_{0,1}; t) \\, q_0$\n",
    "  * $q_{0,1}$: relative rotation from $q_0$ to $q_1$"
   ]
  },
  {
   "cell_type": "markdown",
   "metadata": {
    "slideshow": {
     "slide_type": "subslide"
    }
   },
   "source": [
    "## Relative Rotation\n",
    "\n",
    "* $q_{0,1}$: rotation from $q_0$ to $q_1$\n",
    "\n",
    "\\begin{equation*}\n",
    "q_{0,1} q_0 = q_1\n",
    "\\end{equation*}\n",
    "\n",
    "* right-multiply both sides with ${q_0}^{-1}$\n",
    "\n",
    "\\begin{equation*}\n",
    "q_{0,1} q_0 {q_0}^{-1} = q_1 {q_0}^{-1}\n",
    "\\end{equation*}\n",
    "\n",
    "* $q_0 {q_0}^{-1}$ cancels out\n",
    "\n",
    "\\begin{equation*}\n",
    "q_{0,1} = q_1 {q_0}^{-1}\n",
    "\\end{equation*}"
   ]
  },
  {
   "cell_type": "markdown",
   "metadata": {
    "slideshow": {
     "slide_type": "subslide"
    }
   },
   "source": [
    "## Slerp, part 2\n",
    "\n",
    "* $\\operatorname{Slerp}(q_0, q_1; t) = \\operatorname{Slerp}(\\boldsymbol{1}, q_{0,1}; t) \\, q_0$\n",
    "  * $\\operatorname{Slerp}(\\boldsymbol{1}, q; t) = q^t$\n",
    "\n",
    "  * $q_{0,1} = q_1 {q_0}^{-1}$"
   ]
  },
  {
   "cell_type": "markdown",
   "metadata": {
    "slideshow": {
     "slide_type": "fragment"
    }
   },
   "source": [
    "* $\\operatorname{Slerp}(q_0, q_1; t) = \\left(q_1 {q_0}^{-1}\\right)^t \\, q_0$\n",
    "* https://splines.readthedocs.io/rotation/slerp.html"
   ]
  },
  {
   "cell_type": "markdown",
   "metadata": {
    "slideshow": {
     "slide_type": "subslide"
    }
   },
   "source": [
    "## De Casteljau's Algorithm with Slerp\n",
    "\n",
    "* https://splines.readthedocs.io/rotation/de-casteljau.html"
   ]
  },
  {
   "cell_type": "markdown",
   "metadata": {
    "slideshow": {
     "slide_type": "slide"
    }
   },
   "source": [
    "## Catmull–Rom Splines\n",
    "\n",
    "* Euclidean space\n",
    "  * https://splines.readthedocs.io/euclidean/catmull-rom-properties.html\n",
    "* unit quaternions\n",
    "  * https://splines.readthedocs.io/rotation/catmull-rom-uniform.html\n",
    "  * https://splines.readthedocs.io/rotation/catmull-rom-non-uniform.html"
   ]
  },
  {
   "cell_type": "markdown",
   "metadata": {
    "slideshow": {
     "slide_type": "slide"
    }
   },
   "source": [
    "Thanks for your attention!\n",
    "\n",
    "Questions?\n",
    "\n",
    "https://github.com/mgeier/splines2021"
   ]
  }
 ],
 "metadata": {
  "celltoolbar": "Slideshow",
  "kernelspec": {
   "display_name": "Python 3",
   "language": "python",
   "name": "python3"
  },
  "language_info": {
   "codemirror_mode": {
    "name": "ipython",
    "version": 3
   },
   "file_extension": ".py",
   "mimetype": "text/x-python",
   "name": "python",
   "nbconvert_exporter": "python",
   "pygments_lexer": "ipython3",
   "version": "3.9.1+"
  },
  "livereveal": {
   "autolaunch": true
  }
 },
 "nbformat": 4,
 "nbformat_minor": 4
}
